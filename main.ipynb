{
 "cells": [
  {
   "cell_type": "code",
   "execution_count": null,
   "metadata": {},
   "outputs": [],
   "source": [
    "# Import all the necessary library\n",
    "import pandas as pd\n",
    "from sqlalchemy import create_engine\n",
    "from config import username, password"
   ]
  },
  {
   "cell_type": "markdown",
   "metadata": {},
   "source": [
    "# EXTRACT"
   ]
  },
  {
   "cell_type": "markdown",
   "metadata": {},
   "source": [
    "We got our two dataset from kaggle:\n",
    "    - Countries of the world: https://www.kaggle.com/fernandol/countries-of-the-world\n",
    "    - World Happiness: https://www.kaggle.com/unsdsn/world-happiness"
   ]
  },
  {
   "cell_type": "markdown",
   "metadata": {},
   "source": [
    "Extract the data from the happiness csv file and make it available in a dataframe for transform operations and eventual load into database."
   ]
  },
  {
   "cell_type": "code",
   "execution_count": null,
   "metadata": {},
   "outputs": [],
   "source": [
    "# Extract the two dataset CSVs into DataFrames\n",
    "## Load Happiness data\n",
    "happiness_file = 'Resources/world_happiness_2019.csv'\n",
    "happiness_df = pd.read_csv(happiness_file)\n",
    "happiness_df.head(3)"
   ]
  },
  {
   "cell_type": "markdown",
   "metadata": {},
   "source": [
    "Extract the data from the countries csv file and make it available in a dataframe for transform operations and eventual load into database."
   ]
  },
  {
   "cell_type": "code",
   "execution_count": null,
   "metadata": {},
   "outputs": [],
   "source": [
    "countries_file = \"Resources/countries of the world.csv\"\n",
    "countries_df = pd.read_csv(countries_file)\n",
    "countries_df.head(3)"
   ]
  },
  {
   "cell_type": "markdown",
   "metadata": {},
   "source": [
    "# TRANSFORM"
   ]
  },
  {
   "cell_type": "markdown",
   "metadata": {},
   "source": [
    "We want to gather the following information for each country that we have in our datasets. The columns of our interest for each of the dataset is outlined below:\n",
    "\n",
    "Countries of the world: Region, Infant mortality (per 1000 births), GDP ($ per capita), L iteracy(%) and Pop. Density (per sq. mi.)\n",
    "World Happiness: all the metrics of happiness columns that add to the happiness score except for 'Overall rank'."
   ]
  },
  {
   "cell_type": "markdown",
   "metadata": {},
   "source": [
    "We performed data transformation and clean-up on our two dataset in order for them to work properly.\n",
    "\n",
    "For each of the datasets, we transformed our data with the following:\n",
    "    1. Selected only the columns of our interest within our two dataset.\n",
    "    2. Created copies of the two dataset with the new columns we selected.\n",
    "    3. Renamed the columns to be simpler to type with no spaces.\n",
    " \n",
    "Once the clean-up is complete, we cleaned-up both our dataset with the following:\n",
    "    1. Removed any NaN values from our dataset, if there's any.\n",
    "    2. Removed any duplicative rows with the same 'country'.\n",
    "    3. Set the index to be 'country' column."
   ]
  },
  {
   "cell_type": "markdown",
   "metadata": {},
   "source": [
    "### Wolrd Happiness"
   ]
  },
  {
   "cell_type": "code",
   "execution_count": null,
   "metadata": {},
   "outputs": [],
   "source": [
    "# Create a filtered dataframe from specific columns\n",
    "happiness_df_col = ['Country or region', 'Score', 'GDP per capita',\n",
    "       'Social support', 'Healthy life expectancy',\n",
    "       'Freedom to make life choices', 'Generosity',\n",
    "       'Perceptions of corruption']\n",
    "happiness_transformed_df = happiness_df[happiness_df_col].copy()\n",
    "\n",
    "# Rename the column headers\n",
    "happiness_transformed_df = happiness_transformed_df.rename(columns={\n",
    "    'Country or region' : 'country',\n",
    "    'Score': 'overall_score', \n",
    "    'GDP per capita': 'gdp_score',\n",
    "    'Social support': 'social_support', \n",
    "    'Healthy life expectancy': 'healthy_life_expectancy', \n",
    "    'Freedom to make life choices': 'freedom_choices',\n",
    "    'Generosity': 'generosity', \n",
    "    'Perceptions of corruption': 'corruption_perception'\n",
    "})\n",
    "\n",
    "# Clean the data by dropping duplicates and setting the index\n",
    "happiness_transformed_df = happiness_transformed_df.dropna(how='any')\n",
    "happiness_transformed_df.drop_duplicates('country', inplace=True)\n",
    "happiness_transformed_df.set_index('country', inplace=True)\n",
    "happiness_transformed_df"
   ]
  },
  {
   "cell_type": "markdown",
   "metadata": {},
   "source": [
    "### Countries"
   ]
  },
  {
   "cell_type": "markdown",
   "metadata": {},
   "source": [
    "A few of the columns in our Countries dataset are in the string format, and the data in 'country' column has an extra space after the text. To ensure our two datasets load and join properly, we performed additional data-clean up for our Countries dataset prior to the clean-up steps outlined previously:\n",
    "    1. Changed the data types of the following columns from string to float: pop_density, infant_mortality, literacy;\n",
    "    2. Removed the extra space in the 'country' column."
   ]
  },
  {
   "cell_type": "code",
   "execution_count": null,
   "metadata": {},
   "outputs": [],
   "source": [
    "# Create a filtered dataframe from specific columns\n",
    "countries_df_col = ['Country', 'Region', 'Pop. Density (per sq. mi.)', 'Infant mortality (per 1000 births)', \n",
    "                    'GDP ($ per capita)', 'Literacy (%)']\n",
    "countries_transformed_df = countries_df[countries_df_col].copy()\n",
    "\n",
    "# Rename the column headers\n",
    "countries_transformed_df = countries_transformed_df.rename(columns={\n",
    "    'Country': 'country', \n",
    "    'Region': 'region', \n",
    "    'Pop. Density (per sq. mi.)': 'pop_density', \n",
    "    'Infant mortality (per 1000 births)': 'infant_mortality', \n",
    "    'GDP ($ per capita)': 'gdp', \n",
    "    'Literacy (%)': 'literacy'\n",
    "})\n",
    "\n",
    "## Extra Clean-up\n",
    "# Convert columns with string of numbers to float\n",
    "countries_transformed_df['pop_density'] = countries_transformed_df.pop_density.str.replace(',', '.').astype(float)\n",
    "countries_transformed_df['infant_mortality'] = countries_transformed_df.infant_mortality.str.replace(',', '.').astype(float)\n",
    "countries_transformed_df['literacy'] = countries_transformed_df.literacy.str.replace(',', '.').astype(float)\n",
    "\n",
    "# Remove the weird space after text in country column\n",
    "countries_transformed_df['country'] = countries_transformed_df['country'].str.strip()\n",
    "\n",
    "## Default Clean-up step\n",
    "# Clean the data by dropping NaN, duplicates and setting the index\n",
    "countries_transformed_df = countries_transformed_df.dropna(how='any')\n",
    "countries_transformed_df.drop_duplicates('country', inplace=True)\n",
    "countries_transformed_df.set_index('country', inplace=True)\n",
    "countries_transformed_df"
   ]
  },
  {
   "cell_type": "markdown",
   "metadata": {},
   "source": [
    "We confirmed that our two datasets can merge properly at the index."
   ]
  },
  {
   "cell_type": "code",
   "execution_count": null,
   "metadata": {},
   "outputs": [],
   "source": [
    "# Verify that two datasets can merge properly\n",
    "merge_df = pd.merge(happiness_transformed_df, countries_transformed_df, on='country')\n",
    "merge_df"
   ]
  },
  {
   "cell_type": "markdown",
   "metadata": {},
   "source": [
    "# LOAD"
   ]
  },
  {
   "cell_type": "markdown",
   "metadata": {},
   "source": [
    "We decided to use relational database, postgreSQL, because the two datasets are already organized, so it makes sense to put in a relational database. Also, the two dataset are clearly related by the column, 'country'. "
   ]
  },
  {
   "cell_type": "markdown",
   "metadata": {},
   "source": [
    "Once the transformation step is complete, we set up our database connection with postgreSQL. The {username} and {password} will be pulled from config.py. Our database of interest in postgreSQL is 'countries_happiness_db'."
   ]
  },
  {
   "cell_type": "code",
   "execution_count": null,
   "metadata": {},
   "outputs": [],
   "source": [
    "# Create database connection\n",
    "connection_string = f'{username}:{password}@localhost:5432/countries_happiness_db'\n",
    "engine = create_engine(f'postgresql://{connection_string}')"
   ]
  },
  {
   "cell_type": "markdown",
   "metadata": {},
   "source": [
    "Then, we confirmed that the two tables created in postgreSQL get connected to python."
   ]
  },
  {
   "cell_type": "code",
   "execution_count": null,
   "metadata": {
    "scrolled": false
   },
   "outputs": [],
   "source": [
    "# Confirm tables\n",
    "engine.table_names()"
   ]
  },
  {
   "cell_type": "markdown",
   "metadata": {},
   "source": [
    "Following the creation of the tables, we loaded the two dataframes into the database."
   ]
  },
  {
   "cell_type": "code",
   "execution_count": null,
   "metadata": {},
   "outputs": [],
   "source": [
    "# Load Happiness Df into database\n",
    "happiness_transformed_df.to_sql(name='happiness', con=engine, if_exists='append', index=True)"
   ]
  },
  {
   "cell_type": "code",
   "execution_count": null,
   "metadata": {},
   "outputs": [],
   "source": [
    "# Load Countries Df into database\n",
    "countries_transformed_df.to_sql(name='country', con=engine, if_exists='append', index=True)"
   ]
  },
  {
   "cell_type": "markdown",
   "metadata": {},
   "source": [
    "And lastly, it is possible to verify the ability to query the individual table data from the database."
   ]
  },
  {
   "cell_type": "code",
   "execution_count": null,
   "metadata": {},
   "outputs": [],
   "source": [
    "pd.read_sql_query('select * from happiness', con=engine).head()"
   ]
  },
  {
   "cell_type": "code",
   "execution_count": null,
   "metadata": {},
   "outputs": [],
   "source": [
    "pd.read_sql_query('select * from country', con=engine).head()"
   ]
  },
  {
   "cell_type": "markdown",
   "metadata": {},
   "source": [
    "In postgreSQL: We then merged the individual dataframes in order to get the final dataframe. \n",
    "We chose to combine these two datasets because we feel that the values in both sets could have an impact on the overall happiness score for each country. Further analysis can now be done to see which factors influence the happiness of a country. "
   ]
  }
 ],
 "metadata": {
  "kernelspec": {
   "display_name": "Python 3",
   "language": "python",
   "name": "python3"
  },
  "language_info": {
   "codemirror_mode": {
    "name": "ipython",
    "version": 3
   },
   "file_extension": ".py",
   "mimetype": "text/x-python",
   "name": "python",
   "nbconvert_exporter": "python",
   "pygments_lexer": "ipython3",
   "version": "3.7.6"
  }
 },
 "nbformat": 4,
 "nbformat_minor": 4
}
