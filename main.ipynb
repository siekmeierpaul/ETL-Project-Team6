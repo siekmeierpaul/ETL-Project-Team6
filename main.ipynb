{
 "cells": [
  {
   "cell_type": "code",
   "execution_count": null,
   "metadata": {},
   "outputs": [],
   "source": [
    "# Import all the necessary library\n",
    "import pandas as pd\n",
    "from sqlalchemy import create_engine\n",
    "from config import username, password"
   ]
  },
  {
   "cell_type": "markdown",
   "metadata": {},
   "source": [
    "# EXTRACT"
   ]
  },
  {
   "cell_type": "code",
   "execution_count": null,
   "metadata": {},
   "outputs": [],
   "source": [
    "# Extract the two dataset CSVs into DataFrames\n",
    "## Load Happiness data\n",
    "happiness_file = 'Resources/world_happiness_2019.csv'\n",
    "happiness_df = pd.read_csv(happiness_file)\n",
    "happiness_df.head(3)"
   ]
  },
  {
   "cell_type": "code",
   "execution_count": null,
   "metadata": {},
   "outputs": [],
   "source": [
    "countries_file = \"Resources/countries of the world.csv\"\n",
    "countries_df = pd.read_csv(countries_file)\n",
    "countries_df.head(3)"
   ]
  },
  {
   "cell_type": "markdown",
   "metadata": {},
   "source": [
    "# TRANSFORM"
   ]
  },
  {
   "cell_type": "markdown",
   "metadata": {},
   "source": [
    "Wolrd Countries"
   ]
  },
  {
   "cell_type": "code",
   "execution_count": null,
   "metadata": {},
   "outputs": [],
   "source": [
    "## Happiness df ##\n",
    "# Create a filtered dataframe from specific columns\n",
    "happiness_df_col = ['Country or region', 'Score', 'GDP per capita',\n",
    "       'Social support', 'Healthy life expectancy',\n",
    "       'Freedom to make life choices', 'Generosity',\n",
    "       'Perceptions of corruption']\n",
    "happiness_transformed_df = happiness_df[happiness_df_col].copy()\n",
    "\n",
    "# Rename the column headers\n",
    "happiness_transformed_df = happiness_transformed_df.rename(columns={\n",
    "    'Country or region' : 'country',\n",
    "    'Score': 'overall_score', \n",
    "    'GDP per capita': 'gdp_score',\n",
    "    'Social support': 'social_support', \n",
    "    'Healthy life expectancy': 'healthy_life_expectancy', \n",
    "    'Freedom to make life choices': 'freedom_choices',\n",
    "    'Generosity': 'generosity', \n",
    "    'Perceptions of corruption': 'corruption_perception'\n",
    "})\n",
    "\n",
    "# Clean the data by dropping duplicates and setting the index\n",
    "happiness_transformed_df = happiness_transformed_df.dropna(how='any')\n",
    "happiness_transformed_df.drop_duplicates('country', inplace=True)\n",
    "happiness_transformed_df.set_index('country', inplace=True)\n",
    "happiness_transformed_df"
   ]
  },
  {
   "cell_type": "markdown",
   "metadata": {},
   "source": [
    "Wolrd Happiness"
   ]
  },
  {
   "cell_type": "code",
   "execution_count": null,
   "metadata": {},
   "outputs": [],
   "source": [
    "## Countries df ##\n",
    "# Create a filtered dataframe from specific columns\n",
    "countries_df_col = ['Country', 'Region', 'Pop. Density (per sq. mi.)', 'Infant mortality (per 1000 births)', \n",
    "                    'GDP ($ per capita)', 'Literacy (%)']\n",
    "countries_transformed_df = countries_df[countries_df_col].copy()\n",
    "\n",
    "# Rename the column headers\n",
    "countries_transformed_df = countries_transformed_df.rename(columns={\n",
    "    'Country': 'country', \n",
    "    'Region': 'region', \n",
    "    'Pop. Density (per sq. mi.)': 'pop_density', \n",
    "    'Infant mortality (per 1000 births)': 'infant_mortality', \n",
    "    'GDP ($ per capita)': 'gdp', \n",
    "    'Literacy (%)': 'literacy'\n",
    "})\n",
    "\n",
    "# Convert columns with string of numbers to float\n",
    "countries_transformed_df['pop_density'] = countries_transformed_df.pop_density.str.replace(',', '.').astype(float)\n",
    "countries_transformed_df['infant_mortality'] = countries_transformed_df.infant_mortality.str.replace(',', '.').astype(float)\n",
    "countries_transformed_df['literacy'] = countries_transformed_df.literacy.str.replace(',', '.').astype(float)\n",
    "\n",
    "# Remove the weird space after text in country column\n",
    "countries_transformed_df['country'] = countries_transformed_df['country'].str.strip()\n",
    "\n",
    "# Clean the data by dropping NaN, duplicates and setting the index\n",
    "countries_transformed_df = countries_transformed_df.dropna(how='any')\n",
    "countries_transformed_df.drop_duplicates('country', inplace=True)\n",
    "countries_transformed_df.set_index('country', inplace=True)\n",
    "countries_transformed_df"
   ]
  },
  {
   "cell_type": "code",
   "execution_count": null,
   "metadata": {},
   "outputs": [],
   "source": [
    "# Create database connection\n",
    "connection_string = f'postgres:1327@localhost:5432/countries_happiness_db'\n",
    "engine = create_engine(f'postgresql://{connection_string}')"
   ]
  },
  {
   "cell_type": "code",
   "execution_count": null,
   "metadata": {},
   "outputs": [],
   "source": [
    "# Confirm tables\n",
    "engine.table_names()"
   ]
  },
  {
   "cell_type": "markdown",
   "metadata": {},
   "source": [
    "# LOAD"
   ]
  },
  {
   "cell_type": "markdown",
   "metadata": {},
   "source": [
    "Following the creation of the tables, we loaded the two dataframes into individual databases. \n",
    "We then merged the individual dataframes in order to get the final dataframe. \n",
    "We chose to combine these two datasets because we feel that the values in both sets could have an impact on the overall happiness score for each country. Further analysis can now be done to see which factors influence the happiness of a country. "
   ]
  },
  {
   "cell_type": "code",
   "execution_count": null,
   "metadata": {},
   "outputs": [],
   "source": [
    "# Load Happiness Df into database\n",
    "happiness_transformed_df.to_sql(name='happiness', con=engine, if_exists='append', index=True)"
   ]
  },
  {
   "cell_type": "code",
   "execution_count": null,
   "metadata": {
    "scrolled": false
   },
   "outputs": [],
   "source": [
    "# Load Countries Df into database\n",
    "countries_transformed_df.to_sql(name='country', con=engine, if_exists='append', index=True)"
   ]
  },
  {
   "cell_type": "markdown",
   "metadata": {},
   "source": [
    "### Checking to make sure the two tables merge"
   ]
  },
  {
   "cell_type": "code",
   "execution_count": null,
   "metadata": {},
   "outputs": [],
   "source": [
    "# Test merging\n",
    "merge_df = pd.merge(happiness_transformed_df, countries_transformed_df, on='country')\n",
    "merge_df"
   ]
  },
  {
   "cell_type": "code",
   "execution_count": null,
   "metadata": {},
   "outputs": [],
   "source": []
  }
 ],
 "metadata": {
  "kernelspec": {
   "display_name": "Python 3",
   "language": "python",
   "name": "python3"
  },
  "language_info": {
   "codemirror_mode": {
    "name": "ipython",
    "version": 3
   },
   "file_extension": ".py",
   "mimetype": "text/x-python",
   "name": "python",
   "nbconvert_exporter": "python",
   "pygments_lexer": "ipython3",
   "version": "3.6.10"
  }
 },
 "nbformat": 4,
 "nbformat_minor": 4
}
